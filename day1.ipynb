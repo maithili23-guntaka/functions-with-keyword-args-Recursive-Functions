{
 "cells": [
  {
   "cell_type": "code",
   "execution_count": 3,
   "id": "ade8de6d-0a1a-449a-8f20-af00b46fea8e",
   "metadata": {},
   "outputs": [
    {
     "name": "stdout",
     "output_type": "stream",
     "text": [
      "Hello, Students!!\n"
     ]
    }
   ],
   "source": [
    "def hi(name):\n",
    "    return f\"Hello, {name}!!\"\n",
    "print(hi(\"Students\"))"
   ]
  },
  {
   "cell_type": "code",
   "execution_count": 5,
   "id": "467de3b9-13d3-4ea4-a5e5-26ec2ac7697c",
   "metadata": {},
   "outputs": [
    {
     "name": "stdout",
     "output_type": "stream",
     "text": [
      "5\n",
      "15\n"
     ]
    }
   ],
   "source": [
    "#function with defualt parameters\n",
    "def sample(x, y=1):\n",
    "    return x*y\n",
    "print(sample(5))\n",
    "print(sample(5,3))"
   ]
  },
  {
   "cell_type": "code",
   "execution_count": 7,
   "id": "4d628863-85e9-437b-bf61-097037bc7832",
   "metadata": {},
   "outputs": [
    {
     "name": "stdout",
     "output_type": "stream",
     "text": [
      "6\n",
      "70\n"
     ]
    }
   ],
   "source": [
    "# functionswith keyword args *\n",
    "def result(*args):\n",
    "    return sum(args)\n",
    "    \n",
    "print(result(1,2,3))\n",
    "print(result(11,22,33,4))\n"
   ]
  },
  {
   "cell_type": "code",
   "execution_count": 9,
   "id": "245c3702-439a-405d-92c8-7e383189390a",
   "metadata": {},
   "outputs": [
    {
     "name": "stdout",
     "output_type": "stream",
     "text": [
      "name:vijay\n",
      "age:33\n",
      "city:Mumbai\n"
     ]
    }
   ],
   "source": [
    "# functionswith keyword args **\n",
    "def info(**kwargs):\n",
    "    for key, value in kwargs.items():\n",
    "        print(f\"{key}:{value}\")\n",
    "info(name=\"vijay\", age= 33, city= \"Mumbai\")"
   ]
  },
  {
   "cell_type": "code",
   "execution_count": 15,
   "id": "9d11ecc8-468e-43a3-a050-13aafe599317",
   "metadata": {},
   "outputs": [
    {
     "name": "stdout",
     "output_type": "stream",
     "text": [
      "9\n",
      "6\n"
     ]
    }
   ],
   "source": [
    "# lambda function\n",
    "sq = lambda x: x*x\n",
    "print(sq(3))\n",
    "add= lambda x,y,z: x+y-z\n",
    "print(add(3,5,2))"
   ]
  },
  {
   "cell_type": "code",
   "execution_count": 27,
   "id": "31543e90-18ae-4aeb-99b6-05a811b6dec2",
   "metadata": {},
   "outputs": [
    {
     "name": "stdout",
     "output_type": "stream",
     "text": [
      "Min: 1, Max: 5, Avegarage:3.0\n"
     ]
    }
   ],
   "source": [
    "'''write a proram to return n number of multiple values where passing a list of 1 to 5 elements\n",
    "return the min max and avg in a single function'''\n",
    "def allnum(n):\n",
    "    return min(n), max(n), sum(n)/len(n)\n",
    "min_val, max_val, avg= allnum([1,2,3,4,5])\n",
    "print(f\"Min: {min_val}, Max: {max_val}, Avegarage:{avg}\")"
   ]
  },
  {
   "cell_type": "code",
   "execution_count": 35,
   "id": "3487840c-fb41-4065-b224-8b429cf99005",
   "metadata": {},
   "outputs": [
    {
     "name": "stdout",
     "output_type": "stream",
     "text": [
      "120\n"
     ]
    }
   ],
   "source": [
    "#direct recursion fact\n",
    "\n",
    "def fact(n):\n",
    "    if n==0 or n==1:\n",
    "        return 1\n",
    "    return n* fact(n-1)\n",
    "print(fact(5))\n",
    "\n",
    "\n"
   ]
  },
  {
   "cell_type": "code",
   "execution_count": 39,
   "id": "06dc100e-0856-45ae-a40b-b3c7b1762181",
   "metadata": {},
   "outputs": [
    {
     "name": "stdout",
     "output_type": "stream",
     "text": [
      "True\n",
      "True\n"
     ]
    }
   ],
   "source": [
    "#indirect recursive function\n",
    "\n",
    "def e(n):\n",
    "    if n==0:\n",
    "        return True\n",
    "    return o(n-1)\n",
    "def o(n):\n",
    "    if n==0:\n",
    "        return False\n",
    "    return e(n-1)\n",
    "    \n",
    "print(e(4))\n",
    "print(o(3))"
   ]
  },
  {
   "cell_type": "code",
   "execution_count": 43,
   "id": "c9bbd669-c162-4374-91f2-12a098ffc7a9",
   "metadata": {},
   "outputs": [
    {
     "name": "stdout",
     "output_type": "stream",
     "text": [
      "120\n"
     ]
    }
   ],
   "source": [
    "def fact(n, t = 1):\n",
    "    if n==0 or n==1:\n",
    "        return t\n",
    "    return fact(n-1, n*t)\n",
    "print(fact(5))"
   ]
  },
  {
   "cell_type": "code",
   "execution_count": 45,
   "id": "6b25ebba-9403-4ba7-90ba-f7b4cb936ce2",
   "metadata": {},
   "outputs": [
    {
     "name": "stdout",
     "output_type": "stream",
     "text": [
      "55\n"
     ]
    }
   ],
   "source": [
    "#linear rec\n",
    "def total(n):\n",
    "    if n<=0:\n",
    "        return 0\n",
    "    return n+total(n-1)\n",
    "print(total(10))"
   ]
  },
  {
   "cell_type": "code",
   "execution_count": 47,
   "id": "61d407be-2df0-4d6c-b6f9-f13465677c58",
   "metadata": {},
   "outputs": [
    {
     "name": "stdout",
     "output_type": "stream",
     "text": [
      "288\n",
      "12\n"
     ]
    }
   ],
   "source": [
    "#nested recursion super factorial\n",
    "def sfact(n):\n",
    "    if n<=0:\n",
    "        return 1\n",
    "    return fact(n)*sfact(n-1)\n",
    "\n",
    "print(sfact(4))\n",
    "print(sfact(3))"
   ]
  },
  {
   "cell_type": "code",
   "execution_count": 59,
   "id": "bab03589-7722-4909-95dd-4536f7eb534a",
   "metadata": {},
   "outputs": [
    {
     "name": "stdout",
     "output_type": "stream",
     "text": [
      "288\n",
      "12\n"
     ]
    }
   ],
   "source": [
    "def sfact(n):\n",
    "    if n<=0:\n",
    "        return 1\n",
    "    return fact(n)*sfact(n-1)\n",
    "def fact(n):\n",
    "    if n<=1:\n",
    "        return 1\n",
    "    return n*fact(n-1)\n",
    "print(sfact(4))\n",
    "print(sfact(3))"
   ]
  },
  {
   "cell_type": "code",
   "execution_count": null,
   "id": "5b4cbdea-b002-491f-a491-72b462e7a160",
   "metadata": {},
   "outputs": [
    {
     "ename": "",
     "evalue": "",
     "output_type": "error",
     "traceback": [
      "\u001b[1;31mRunning cells with 'Python 3.10.7' requires the ipykernel package.\n",
      "\u001b[1;31mRun the following command to install 'ipykernel' into the Python environment. \n",
      "\u001b[1;31mCommand: '\"c:/Users/siva sankar/AppData/Local/Programs/Python/Python310/python.exe\" -m pip install ipykernel -U --user --force-reinstall'"
     ]
    }
   ],
   "source": [
    "#Power Tower:\n",
    "def pt(a,n):\n",
    "    if n==1:\n",
    "        return a\n",
    "    return a**pt(a, \n",
    "print(pt(2,4))\n",
    "print(pt(3,2))"
   ]
  },
  {
   "cell_type": "code",
   "execution_count": null,
   "id": "23265c1c-0c2f-4723-8f3f-975bb8242d53",
   "metadata": {},
   "outputs": [],
   "source": []
  }
 ],
 "metadata": {
  "kernelspec": {
   "display_name": "Python 3",
   "language": "python",
   "name": "python3"
  },
  "language_info": {
   "codemirror_mode": {
    "name": "ipython",
    "version": 3
   },
   "file_extension": ".py",
   "mimetype": "text/x-python",
   "name": "python",
   "nbconvert_exporter": "python",
   "pygments_lexer": "ipython3",
   "version": "3.10.7"
  }
 },
 "nbformat": 4,
 "nbformat_minor": 5
}
